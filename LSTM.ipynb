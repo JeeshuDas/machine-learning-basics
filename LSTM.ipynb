{
 "cells": [
  {
   "cell_type": "code",
   "execution_count": 2,
   "id": "45a59cb5-bc83-4f32-8c12-af8f18701202",
   "metadata": {},
   "outputs": [],
   "source": [
    "import numpy as np\n",
    "import tensorflow as tf\n",
    "from tensorflow.keras.models import Sequential\n",
    "from tensorflow.keras.layers import LSTM, Dense"
   ]
  },
  {
   "cell_type": "code",
   "execution_count": 3,
   "id": "57b98335-dd3c-454c-aa43-a10e97393ae2",
   "metadata": {},
   "outputs": [],
   "source": [
    "s=np.array([1,2,3,4,5,6,7,8,9])"
   ]
  },
  {
   "cell_type": "code",
   "execution_count": 5,
   "id": "df1d4fcf-1fbc-4f0a-8225-bb3f8e1a2596",
   "metadata": {},
   "outputs": [],
   "source": [
    "# function to create sequence of length 3 -> predict next number\n",
    "def create_dataset(s,step):\n",
    "    x,y=[],[]\n",
    "    for i in range(len(s)-step):\n",
    "        x.append(s[i:i+step])\n",
    "        y.append(s[i:i+step])\n",
    "    return np.array(x),np.array(y)\n",
    "step=3\n",
    "x,y=create_dataset(s,step)\n",
    "x=x.reshape((x.shape[0],x.shape[1],1))"
   ]
  },
  {
   "cell_type": "code",
   "execution_count": 7,
   "id": "3e07f1fb-c9cf-4844-9f2a-6e6924a809d3",
   "metadata": {},
   "outputs": [
    {
     "data": {
      "text/plain": [
       "<keras.src.callbacks.history.History at 0x2b50425f470>"
      ]
     },
     "execution_count": 7,
     "metadata": {},
     "output_type": "execute_result"
    }
   ],
   "source": [
    "model=Sequential()\n",
    "model.add(LSTM(50,activation='relu',input_shape=(step,1)))\n",
    "model.add(Dense(1))\n",
    "model.compile(optimizer='adam', loss='mse')\n",
    "model.fit(x,y,epochs=300,verbose=0)"
   ]
  },
  {
   "cell_type": "code",
   "execution_count": 9,
   "id": "52a9603b-34a1-4dd1-9c5d-442ea7a240cf",
   "metadata": {},
   "outputs": [
    {
     "name": "stdout",
     "output_type": "stream",
     "text": [
      "predicted next number: 8.28\n"
     ]
    }
   ],
   "source": [
    "tip=np.array([7,8,9])\n",
    "tip=tip.reshape((1,step,1))\n",
    "pdt=model.predict(tip,verbose=0)\n",
    "print(f\"predicted next number: {pdt[0][0]:.2f}\")"
   ]
  },
  {
   "cell_type": "code",
   "execution_count": null,
   "id": "b95fba49-d7bc-43a9-94d0-17c91988e194",
   "metadata": {},
   "outputs": [],
   "source": []
  }
 ],
 "metadata": {
  "kernelspec": {
   "display_name": "Python 3 (ipykernel)",
   "language": "python",
   "name": "python3"
  },
  "language_info": {
   "codemirror_mode": {
    "name": "ipython",
    "version": 3
   },
   "file_extension": ".py",
   "mimetype": "text/x-python",
   "name": "python",
   "nbconvert_exporter": "python",
   "pygments_lexer": "ipython3",
   "version": "3.12.6"
  }
 },
 "nbformat": 4,
 "nbformat_minor": 5
}
