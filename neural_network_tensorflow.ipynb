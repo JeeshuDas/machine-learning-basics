{
 "cells": [
  {
   "cell_type": "code",
   "execution_count": 5,
   "id": "e38f58ff-2918-495e-bfc7-2a34f790d1a7",
   "metadata": {},
   "outputs": [],
   "source": [
    "# step 1: importing libraries\n",
    "import torch # base pytorch library\n",
    "import torch.nn as nn # for building neural networks\n",
    "import torch.optim as optim # for optimizing and training model"
   ]
  },
  {
   "cell_type": "code",
   "execution_count": 6,
   "id": "6fbeb575-2687-4791-95e8-64270b435552",
   "metadata": {},
   "outputs": [],
   "source": [
    "# step 2: creating a small input dataset (features)\n",
    "x = torch.tensor([[0.0, 0.0],[0.0, 1.0],[1.0, 0.0],[1.0, 1.0]])"
   ]
  },
  {
   "cell_type": "code",
   "execution_count": 7,
   "id": "cc42d982-d8a3-4e04-92f8-042012620a35",
   "metadata": {},
   "outputs": [],
   "source": [
    "# step 3: create corresponding labels (targets)\n",
    "# xor: different inputs produce 1\n",
    "y = torch.tensor([[0.0],[1.0],[1.0],[0.0]])"
   ]
  },
  {
   "cell_type": "code",
   "execution_count": 8,
   "id": "d739fd3d-a39e-4b4e-a02c-9290cbc7f521",
   "metadata": {},
   "outputs": [],
   "source": [
    "# step 4: define a very simple neural network\n",
    "class SimpleNN(nn.Module): # inherit from pytorches module class\n",
    "    def __init__(self):\n",
    "        super(SimpleNN, self).__init__() # initialize parent class\n",
    "        self.layer1 = nn.Linear(2,2) # first layer: input=2, output=2\n",
    "        self.layer2 = nn.Linear(2,1) # second layer: input=2, output=1\n",
    "    def forward(self, x): # defines how data move through the network\n",
    "        x = torch.sigmoid(self.layer1(x)) # activation after layer 1\n",
    "        x = torch.sigmoid(self.layer2(x)) # activation after layer 2\n",
    "        return x # final prediction"
   ]
  },
  {
   "cell_type": "code",
   "execution_count": 9,
   "id": "324dd322-1bb0-44e1-9056-fee527a4b646",
   "metadata": {},
   "outputs": [],
   "source": [
    "# step 5: create model instance\n",
    "model = SimpleNN()"
   ]
  },
  {
   "cell_type": "code",
   "execution_count": 10,
   "id": "5b119deb-26eb-44ff-95f4-0000cbfb0410",
   "metadata": {},
   "outputs": [],
   "source": [
    "# step 6: define loss function and optimizer\n",
    "loss_fn = nn.MSELoss() # mean square error for simplicity\n",
    "optimizer = optim.SGD(model.parameters(), lr=0.1) # stochastic gradient descent"
   ]
  },
  {
   "cell_type": "code",
   "execution_count": null,
   "id": "91a46523-c357-464b-92fc-3ee1b24862e6",
   "metadata": {},
   "outputs": [],
   "source": [
    "# step 6: train the model for 1000 steps\n",
    "for epoc in range(1000):\n",
    "    y_pred = model(x) # forward pass: predicts output "
   ]
  }
 ],
 "metadata": {
  "kernelspec": {
   "display_name": "Python 3 (ipykernel)",
   "language": "python",
   "name": "python3"
  },
  "language_info": {
   "codemirror_mode": {
    "name": "ipython",
    "version": 3
   },
   "file_extension": ".py",
   "mimetype": "text/x-python",
   "name": "python",
   "nbconvert_exporter": "python",
   "pygments_lexer": "ipython3",
   "version": "3.12.6"
  }
 },
 "nbformat": 4,
 "nbformat_minor": 5
}
