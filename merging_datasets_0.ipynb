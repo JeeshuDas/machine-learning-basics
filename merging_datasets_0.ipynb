{
 "cells": [
  {
   "cell_type": "code",
   "execution_count": 6,
   "id": "749de97c-b554-4daf-ba49-8d587f3d26c0",
   "metadata": {},
   "outputs": [],
   "source": [
    "import numpy as np"
   ]
  },
  {
   "cell_type": "code",
   "execution_count": 7,
   "id": "c280ed3a-6999-4c2a-a411-e9f9059946a8",
   "metadata": {},
   "outputs": [],
   "source": [
    "data1 = np.array([[18],[25],[30]]) # ages\n",
    "data2 = np.array([[0],[1],[1]]) # 0=no and 1=yes"
   ]
  },
  {
   "cell_type": "code",
   "execution_count": 8,
   "id": "1c0a0d23-62f2-4858-8d2d-48fa4f3e8c4e",
   "metadata": {},
   "outputs": [
    {
     "name": "stdout",
     "output_type": "stream",
     "text": [
      "[[18  0]\n",
      " [25  1]\n",
      " [30  1]]\n"
     ]
    }
   ],
   "source": [
    "merged = np.hstack((data1, data2)) # combine them column wise\n",
    "print(merged)"
   ]
  },
  {
   "cell_type": "code",
   "execution_count": 10,
   "id": "9e8dce5c-836a-4acc-9608-39e4b7d85a0b",
   "metadata": {},
   "outputs": [
    {
     "name": "stdout",
     "output_type": "stream",
     "text": [
      "[[18  0]\n",
      " [25  1]\n",
      " [30  1]\n",
      " [35  1]]\n"
     ]
    }
   ],
   "source": [
    "data3 = np.array([[35, 1]]) # new row\n",
    "merged1 = np.vstack((merged, data3)) # combine verticle wise\n",
    "print(merged1)"
   ]
  }
 ],
 "metadata": {
  "kernelspec": {
   "display_name": "Python 3 (ipykernel)",
   "language": "python",
   "name": "python3"
  },
  "language_info": {
   "codemirror_mode": {
    "name": "ipython",
    "version": 3
   },
   "file_extension": ".py",
   "mimetype": "text/x-python",
   "name": "python",
   "nbconvert_exporter": "python",
   "pygments_lexer": "ipython3",
   "version": "3.12.6"
  }
 },
 "nbformat": 4,
 "nbformat_minor": 5
}
