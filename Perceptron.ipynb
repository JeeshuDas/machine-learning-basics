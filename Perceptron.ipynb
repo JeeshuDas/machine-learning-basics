{
 "cells": [
  {
   "cell_type": "code",
   "execution_count": 1,
   "id": "b9de9df1-ddc5-433d-b2fa-4406b949a08b",
   "metadata": {},
   "outputs": [],
   "source": [
    "import numpy as np"
   ]
  },
  {
   "cell_type": "code",
   "execution_count": 2,
   "id": "249680f6-0679-4921-b085-8b2f6ee424c9",
   "metadata": {},
   "outputs": [],
   "source": [
    "# defining the activation function\n",
    "def actF(x):\n",
    "    return 1 if x>=0 else 0"
   ]
  },
  {
   "cell_type": "code",
   "execution_count": 12,
   "id": "87a2c1de-8cbe-4e9b-a86e-7f8c6ae68891",
   "metadata": {},
   "outputs": [],
   "source": [
    "# defining the perceptron model\n",
    "def pctN(x,y,learning_rate=0.1,eps=5): # x is features & y is labels\n",
    "    # initializing weights and biases to 0\n",
    "    wt=np.zeros(x.shape[1])\n",
    "    bs=0\n",
    "    # making a training loop \n",
    "    # epoch = full dataset cycle\n",
    "    for ep in range(eps):\n",
    "        print(f\"Epoch {ep + 1}\")\n",
    "        for i in range(len(x)):\n",
    "            # calculate the weighted sum\n",
    "            lo=np.dot(x[i],wt)+bs\n",
    "            # now applying the activation function\n",
    "            pdt=actF(lo)\n",
    "            # error calculation (actual-predicted)\n",
    "            er=y[i]-pdt\n",
    "            # updating weights and bais based on the error\n",
    "            wt+=learning_rate*er*x[i]\n",
    "            bs+=learning_rate*er\n",
    "            print(f\"input: {x[i]}, pdt:{pdt},er:{er},wt:{wt},bs:{bs}\")\n",
    "    return wt,bs"
   ]
  },
  {
   "cell_type": "code",
   "execution_count": 13,
   "id": "0ffa9eb3-3d1e-44e7-bd5a-6c8a07d3d494",
   "metadata": {},
   "outputs": [],
   "source": [
    "x = np.array([\n",
    "    [0, 0],\n",
    "    [0, 1],\n",
    "    [1, 0],\n",
    "    [1, 1]\n",
    "])\n",
    "y = np.array([0, 0, 0, 1])"
   ]
  },
  {
   "cell_type": "code",
   "execution_count": 14,
   "id": "be36608e-db19-4c11-b09d-8cbdfa874bc1",
   "metadata": {},
   "outputs": [
    {
     "name": "stdout",
     "output_type": "stream",
     "text": [
      "Epoch 1\n",
      "input: [0 0], pdt:1,er:-1,wt:[0. 0.],bs:-0.1\n",
      "input: [0 1], pdt:0,er:0,wt:[0. 0.],bs:-0.1\n",
      "input: [1 0], pdt:0,er:0,wt:[0. 0.],bs:-0.1\n",
      "input: [1 1], pdt:0,er:1,wt:[0.1 0.1],bs:0.0\n",
      "Epoch 2\n",
      "input: [0 0], pdt:1,er:-1,wt:[0.1 0.1],bs:-0.1\n",
      "input: [0 1], pdt:1,er:-1,wt:[0.1 0. ],bs:-0.2\n",
      "input: [1 0], pdt:0,er:0,wt:[0.1 0. ],bs:-0.2\n",
      "input: [1 1], pdt:0,er:1,wt:[0.2 0.1],bs:-0.1\n",
      "Epoch 3\n",
      "input: [0 0], pdt:0,er:0,wt:[0.2 0.1],bs:-0.1\n",
      "input: [0 1], pdt:1,er:-1,wt:[0.2 0. ],bs:-0.2\n",
      "input: [1 0], pdt:1,er:-1,wt:[0.1 0. ],bs:-0.30000000000000004\n",
      "input: [1 1], pdt:0,er:1,wt:[0.2 0.1],bs:-0.20000000000000004\n",
      "Epoch 4\n",
      "input: [0 0], pdt:0,er:0,wt:[0.2 0.1],bs:-0.20000000000000004\n",
      "input: [0 1], pdt:0,er:0,wt:[0.2 0.1],bs:-0.20000000000000004\n",
      "input: [1 0], pdt:0,er:0,wt:[0.2 0.1],bs:-0.20000000000000004\n",
      "input: [1 1], pdt:1,er:0,wt:[0.2 0.1],bs:-0.20000000000000004\n",
      "Epoch 5\n",
      "input: [0 0], pdt:0,er:0,wt:[0.2 0.1],bs:-0.20000000000000004\n",
      "input: [0 1], pdt:0,er:0,wt:[0.2 0.1],bs:-0.20000000000000004\n",
      "input: [1 0], pdt:0,er:0,wt:[0.2 0.1],bs:-0.20000000000000004\n",
      "input: [1 1], pdt:1,er:0,wt:[0.2 0.1],bs:-0.20000000000000004\n"
     ]
    }
   ],
   "source": [
    "wt,bs=pctN(x,y)"
   ]
  },
  {
   "cell_type": "code",
   "execution_count": 16,
   "id": "37ee5e03-74a3-4826-9110-d10798a40e35",
   "metadata": {},
   "outputs": [
    {
     "name": "stdout",
     "output_type": "stream",
     "text": [
      "input: [0 0], output: 0\n",
      "input: [0 1], output: 0\n",
      "input: [1 0], output: 0\n",
      "input: [1 1], output: 1\n"
     ]
    }
   ],
   "source": [
    "for i in x:\n",
    "    rs=actF(np.dot(i,wt)+bs)\n",
    "    print(f\"input: {i}, output: {rs}\")"
   ]
  },
  {
   "cell_type": "code",
   "execution_count": null,
   "id": "68744c26-c704-424d-8868-9ddcef6ea83f",
   "metadata": {},
   "outputs": [],
   "source": []
  }
 ],
 "metadata": {
  "kernelspec": {
   "display_name": "Python 3 (ipykernel)",
   "language": "python",
   "name": "python3"
  },
  "language_info": {
   "codemirror_mode": {
    "name": "ipython",
    "version": 3
   },
   "file_extension": ".py",
   "mimetype": "text/x-python",
   "name": "python",
   "nbconvert_exporter": "python",
   "pygments_lexer": "ipython3",
   "version": "3.12.6"
  }
 },
 "nbformat": 4,
 "nbformat_minor": 5
}
