{
 "cells": [
  {
   "cell_type": "code",
   "execution_count": 6,
   "id": "50bd21cf-27a3-4b49-8247-4929ca8c2c82",
   "metadata": {},
   "outputs": [],
   "source": [
    "import numpy as np\n",
    "def smd(x):\n",
    "    return 1/(1+np.exp(-x)) # activation function\n",
    "def smd_dv(x):\n",
    "    return x*(1-x) # derivative used in back propagation"
   ]
  },
  {
   "cell_type": "code",
   "execution_count": 7,
   "id": "8293d022-8aef-49c7-baaf-b9bfeac6c5f1",
   "metadata": {},
   "outputs": [],
   "source": [
    "x=np.array([[0,0],[1,1]]) # features\n",
    "y=np.array([[0],[1]]) # targets\n",
    "iln=2 # input layer with 2 neurons \n",
    "hln=2 # hidden layer wit 2 neurons\n",
    "opn=1   # output layer with 1 neuron\n",
    "\n",
    "wh=np.random.uniform(size=(iln,hln)) # weigths from input layer to hidden layer\n",
    "bh=np.random.uniform(size=(1,hln)) # bias for hidden layer\n",
    "wo=np.random.uniform(size=(hln,opn)) # weights form hidden to output layer\n",
    "bo=np.random.uniform(size=(1,opn)) # bias for output layer\n",
    "\n",
    "lr=0.1 # learning rate"
   ]
  },
  {
   "cell_type": "code",
   "execution_count": 11,
   "id": "54473d19-5bac-4916-bc9d-66fe56969e3f",
   "metadata": {},
   "outputs": [
    {
     "name": "stdout",
     "output_type": "stream",
     "text": [
      "predicted output after training:\n",
      "  [[0.01508351]\n",
      " [0.98545828]]\n"
     ]
    }
   ],
   "source": [
    "for epoch in range(10000):\n",
    "    # forward pass\n",
    "    hi=np.dot(x,wh)+bh\n",
    "    ho=smd(hi)\n",
    "    fi=np.dot(ho,wo)+bo\n",
    "    po=smd(fi)\n",
    "\n",
    "    # backward pass\n",
    "    er=y-po\n",
    "    dpo=er*smd_dv(po)\n",
    "    ehl=dpo.dot(wo.T)\n",
    "    dhl=ehl*smd_dv(ho)\n",
    "\n",
    "    # updates weights and biases\n",
    "    wo+=ho.T.dot(dpo)*lr\n",
    "    bo+=np.sum(dpo,axis=0,keepdims=True)\n",
    "    wh+=x.T.dot(dhl)*lr\n",
    "    bh+=np.sum(dhl,axis=0,keepdims=True)*lr\n",
    "\n",
    "print(\"predicted output after training:\\n \",po)"
   ]
  },
  {
   "cell_type": "code",
   "execution_count": null,
   "id": "12c6201b-774c-4d96-98d5-17761cb31e4d",
   "metadata": {},
   "outputs": [],
   "source": []
  }
 ],
 "metadata": {
  "kernelspec": {
   "display_name": "Python 3 (ipykernel)",
   "language": "python",
   "name": "python3"
  },
  "language_info": {
   "codemirror_mode": {
    "name": "ipython",
    "version": 3
   },
   "file_extension": ".py",
   "mimetype": "text/x-python",
   "name": "python",
   "nbconvert_exporter": "python",
   "pygments_lexer": "ipython3",
   "version": "3.12.6"
  }
 },
 "nbformat": 4,
 "nbformat_minor": 5
}
